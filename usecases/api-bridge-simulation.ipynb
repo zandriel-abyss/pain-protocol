{
 "cells": [
  {
   "cell_type": "markdown",
   "metadata": {},
   "source": [
    "# 🌐 PAIN Protocol – Rail Fallback Simulation Notebook (Execution Cells)\n",
    "\n",
    "This Jupyter scaffold simulates real-time rail outages, runs key user flows, and observes fallback routing behavior.\n",
    "\n",
    "---\n",
    "\n",
    "# 🧪 Simulate Outage + Execute Maria + Aisha"
   ]
  },
  {
   "cell_type": "code",
   "execution_count": 5,
   "metadata": {},
   "outputs": [
    {
     "ename": "NameError",
     "evalue": "name '__file__' is not defined",
     "output_type": "error",
     "traceback": [
      "\u001b[1;31m---------------------------------------------------------------------------\u001b[0m",
      "\u001b[1;31mNameError\u001b[0m                                 Traceback (most recent call last)",
      "Cell \u001b[1;32mIn[5], line 4\u001b[0m\n\u001b[0;32m      1\u001b[0m \u001b[38;5;28;01mimport\u001b[39;00m\u001b[38;5;250m \u001b[39m\u001b[38;5;21;01msys\u001b[39;00m\n\u001b[0;32m      2\u001b[0m \u001b[38;5;28;01mimport\u001b[39;00m\u001b[38;5;250m \u001b[39m\u001b[38;5;21;01mos\u001b[39;00m\n\u001b[1;32m----> 4\u001b[0m ROOT_DIR \u001b[38;5;241m=\u001b[39m os\u001b[38;5;241m.\u001b[39mpath\u001b[38;5;241m.\u001b[39mabspath(os\u001b[38;5;241m.\u001b[39mpath\u001b[38;5;241m.\u001b[39mjoin(os\u001b[38;5;241m.\u001b[39mpath\u001b[38;5;241m.\u001b[39mdirname(\u001b[38;5;18;43m__file__\u001b[39;49m), \u001b[38;5;124mr\u001b[39m\u001b[38;5;124m\"\u001b[39m\u001b[38;5;124mC:\u001b[39m\u001b[38;5;130;01m\\\\\u001b[39;00m\u001b[38;5;124mUsers\u001b[39m\u001b[38;5;130;01m\\\\\u001b[39;00m\u001b[38;5;124mjzack\u001b[39m\u001b[38;5;130;01m\\\\\u001b[39;00m\u001b[38;5;124mML Projects\u001b[39m\u001b[38;5;130;01m\\\\\u001b[39;00m\u001b[38;5;124mpain-protocol\u001b[39m\u001b[38;5;124m\"\u001b[39m))\n\u001b[0;32m      5\u001b[0m sys\u001b[38;5;241m.\u001b[39mpath\u001b[38;5;241m.\u001b[39mappend(os\u001b[38;5;241m.\u001b[39mpath\u001b[38;5;241m.\u001b[39mjoin(ROOT_DIR, \u001b[38;5;124m\"\u001b[39m\u001b[38;5;124mpayment-rails\u001b[39m\u001b[38;5;124m\"\u001b[39m))\n\u001b[0;32m      6\u001b[0m sys\u001b[38;5;241m.\u001b[39mpath\u001b[38;5;241m.\u001b[39mappend(os\u001b[38;5;241m.\u001b[39mpath\u001b[38;5;241m.\u001b[39mjoin(ROOT_DIR, \u001b[38;5;124m\"\u001b[39m\u001b[38;5;124musecases/remittance-maria\u001b[39m\u001b[38;5;124m\"\u001b[39m))\n",
      "\u001b[1;31mNameError\u001b[0m: name '__file__' is not defined"
     ]
    }
   ],
   "source": [
    "import sys\n",
    "import os\n",
    "\n",
    "ROOT_DIR = os.path.abspath(os.path.join(os.path.dirname(__file__), r\"C:\\\\Users\\\\jzack\\\\ML Projects\\\\pain-protocol\"))\n",
    "sys.path.append(os.path.join(ROOT_DIR, \"payment-rails\"))\n",
    "sys.path.append(os.path.join(ROOT_DIR, \"usecases/remittance-maria\"))\n",
    "sys.path.append(os.path.join(ROOT_DIR, \"usecases/freelancer-aisha\"))\n",
    "\n",
    "from rail_registry import simulate_random_rail_outage, reset_all_rails, RAIL_STATUS\n",
    "from run_maria_flow import run_maria_flow\n",
    "from run_aisha_flow import run_aisha_flow\n",
    "\n",
    "## ✅ View Initial Status\n",
    "\n",
    "print(\"Current Rail Status:\")\n",
    "print(RAIL_STATUS)"
   ]
  },
  {
   "cell_type": "code",
   "execution_count": null,
   "metadata": {},
   "outputs": [],
   "source": [
    "## ⚡ Random Outage\n",
    "\n",
    "simulate_random_rail_outage()\n",
    "print(\"\\nRail Status After Random Outage:\")\n",
    "print(RAIL_STATUS)"
   ]
  },
  {
   "cell_type": "code",
   "execution_count": null,
   "metadata": {},
   "outputs": [],
   "source": [
    "## 🔧 Manual Rail Down (Force Failure)\n",
    "\n",
    "RAIL_STATUS[\"CBDC_UAE\"] = False\n",
    "RAIL_STATUS[\"CBDC_PHP\"] = False\n",
    "RAIL_STATUS[\"USDC_Stablecoin\"] = False\n",
    "print(\"\\nForced Outage - Critical Rails Down:\")\n",
    "print(RAIL_STATUS)"
   ]
  },
  {
   "cell_type": "code",
   "execution_count": null,
   "metadata": {},
   "outputs": [],
   "source": [
    "## 🚀 Run Maria\n",
    "run_maria_flow()"
   ]
  },
  {
   "cell_type": "code",
   "execution_count": null,
   "metadata": {},
   "outputs": [],
   "source": [
    "## 🚀 Run Aisha\n",
    "\n",
    "run_aisha_flow()"
   ]
  },
  {
   "cell_type": "code",
   "execution_count": null,
   "metadata": {},
   "outputs": [],
   "source": [
    "## 🔁 Reset Rails\n",
    "\n",
    "reset_all_rails()\n",
    "print(\"\\nRail Status Reset:\")\n",
    "print(RAIL_STATUS)\n",
    "\n",
    "## 📊 Optional: Visualize Rails\n",
    "import matplotlib.pyplot as plt\n",
    "\n",
    "def plot_rail_status():\n",
    "    rails = list(RAIL_STATUS.keys())\n",
    "    status = [1 if RAIL_STATUS[rail] else 0 for rail in rails]\n",
    "    plt.figure(figsize=(10, 4))\n",
    "    plt.bar(rails, status, color=[\"green\" if s else \"red\" for s in status])\n",
    "    plt.title(\"Rail Availability\")\n",
    "    plt.ylabel(\"Online = 1, Offline = 0\")\n",
    "    plt.xticks(rotation=45)\n",
    "    plt.grid(axis=\"y\")\n",
    "    plt.show()\n",
    "\n",
    "plot_rail_status()"
   ]
  }
 ],
 "metadata": {
  "kernelspec": {
   "display_name": "mlfinance",
   "language": "python",
   "name": "python3"
  },
  "language_info": {
   "codemirror_mode": {
    "name": "ipython",
    "version": 3
   },
   "file_extension": ".py",
   "mimetype": "text/x-python",
   "name": "python",
   "nbconvert_exporter": "python",
   "pygments_lexer": "ipython3",
   "version": "3.9.21"
  }
 },
 "nbformat": 4,
 "nbformat_minor": 2
}
